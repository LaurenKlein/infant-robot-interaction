{
 "cells": [
  {
   "cell_type": "code",
   "execution_count": 1,
   "metadata": {},
   "outputs": [],
   "source": [
    "import pandas as pd \n",
    "import numpy as np\n",
    "import ast\n",
    "import matplotlib.pyplot as plt\n",
    "import matplotlib.patches as mpatches\n",
    "import seaborn as sns\n",
    "from sklearn.decomposition import PCA\n",
    "from sklearn.preprocessing import StandardScaler\n",
    "%matplotlib inline"
   ]
  },
  {
   "cell_type": "code",
   "execution_count": 2,
   "metadata": {},
   "outputs": [
    {
     "name": "stdout",
     "output_type": "stream",
     "text": [
      "Baby 2 done!\n",
      "Baby 3 done!\n",
      "Baby 4 done!\n",
      "Baby 6 done!\n",
      "Baby 7 done!\n",
      "Baby 8 done!\n",
      "Baby 9 done!\n",
      "Baby 12 done!\n",
      "Baby 14 done!\n",
      "FINAL BEHAVIORAL STATE DATAFRAME - READY!\n"
     ]
    }
   ],
   "source": [
    "df2 = pd.read_csv('Affect/TD2_Affect.csv')\n",
    "print(\"Baby 2 done!\")\n",
    "df3 = pd.read_csv('Affect/TD3_Affect.csv')\n",
    "print(\"Baby 3 done!\")\n",
    "df4 = pd.read_csv('Affect/TD4_Affect.csv')\n",
    "print(\"Baby 4 done!\")\n",
    "df6 = pd.read_csv('Affect/TD6_Affect.csv')\n",
    "print(\"Baby 6 done!\")\n",
    "df7 = pd.read_csv('Affect/TD7_Affect.csv')\n",
    "print(\"Baby 7 done!\")\n",
    "df8 = pd.read_csv('Affect/TD8_Affect.csv')\n",
    "print(\"Baby 8 done!\")\n",
    "df9 = pd.read_csv('Affect/TD9_Affect.csv')\n",
    "print(\"Baby 9 done!\")\n",
    "df12 = pd.read_csv('Affect/TD12_Affect.csv')\n",
    "print(\"Baby 12 done!\")\n",
    "df14 = pd.read_csv('Affect/TD14_Affect.csv')\n",
    "print(\"Baby 14 done!\")\n",
    "df = pd.concat([df2, df3, df4, df6, df7, df8, df9, df12, df14], ignore_index=True)\n",
    "print(\"FINAL BEHAVIORAL STATE DATAFRAME - READY!\")"
   ]
  },
  {
   "cell_type": "code",
   "execution_count": 3,
   "metadata": {},
   "outputs": [],
   "source": [
    "df.to_csv('FINAL_BEHAVIORAL_STATE_DATAFRAME.csv')"
   ]
  },
  {
   "cell_type": "code",
   "execution_count": 4,
   "metadata": {},
   "outputs": [],
   "source": [
    "df = df.drop(index=df[df['affect']=='n'].index)\n",
    "df = df.reset_index(drop=True)"
   ]
  },
  {
   "cell_type": "code",
   "execution_count": 5,
   "metadata": {},
   "outputs": [
    {
     "data": {
      "text/html": [
       "<div>\n",
       "<style scoped>\n",
       "    .dataframe tbody tr th:only-of-type {\n",
       "        vertical-align: middle;\n",
       "    }\n",
       "\n",
       "    .dataframe tbody tr th {\n",
       "        vertical-align: top;\n",
       "    }\n",
       "\n",
       "    .dataframe thead th {\n",
       "        text-align: right;\n",
       "    }\n",
       "</style>\n",
       "<table border=\"1\" class=\"dataframe\">\n",
       "  <thead>\n",
       "    <tr style=\"text-align: right;\">\n",
       "      <th></th>\n",
       "      <th>timestamp</th>\n",
       "      <th>feature1</th>\n",
       "      <th>feature2</th>\n",
       "      <th>feature3</th>\n",
       "      <th>feature4</th>\n",
       "      <th>feature5</th>\n",
       "      <th>feature6</th>\n",
       "      <th>feature7</th>\n",
       "      <th>feature8</th>\n",
       "      <th>feature9</th>\n",
       "      <th>...</th>\n",
       "      <th>feature2271.1</th>\n",
       "      <th>feature2272.1</th>\n",
       "      <th>feature2273.1</th>\n",
       "      <th>feature2274.1</th>\n",
       "      <th>feature2275.1</th>\n",
       "      <th>feature2276.1</th>\n",
       "      <th>feature2277.1</th>\n",
       "      <th>feature2278.1</th>\n",
       "      <th>synced_timestamp</th>\n",
       "      <th>affect</th>\n",
       "    </tr>\n",
       "  </thead>\n",
       "  <tbody>\n",
       "    <tr>\n",
       "      <th>0</th>\n",
       "      <td>00:00:47.900000</td>\n",
       "      <td>0.367517</td>\n",
       "      <td>0.737452</td>\n",
       "      <td>1.116747</td>\n",
       "      <td>1.476204</td>\n",
       "      <td>1.821936</td>\n",
       "      <td>2.144186</td>\n",
       "      <td>2.449769</td>\n",
       "      <td>2.706714</td>\n",
       "      <td>2.962783</td>\n",
       "      <td>...</td>\n",
       "      <td>-0.003222</td>\n",
       "      <td>-0.004629</td>\n",
       "      <td>-0.008173</td>\n",
       "      <td>-0.012992</td>\n",
       "      <td>-0.014052</td>\n",
       "      <td>-0.007003</td>\n",
       "      <td>-0.004961</td>\n",
       "      <td>-0.001530</td>\n",
       "      <td>0 days 00:01:33.000000000</td>\n",
       "      <td>a</td>\n",
       "    </tr>\n",
       "    <tr>\n",
       "      <th>1</th>\n",
       "      <td>00:00:47.933000</td>\n",
       "      <td>0.367517</td>\n",
       "      <td>0.737452</td>\n",
       "      <td>1.116747</td>\n",
       "      <td>1.471278</td>\n",
       "      <td>1.830188</td>\n",
       "      <td>2.149291</td>\n",
       "      <td>2.472922</td>\n",
       "      <td>2.730096</td>\n",
       "      <td>2.986086</td>\n",
       "      <td>...</td>\n",
       "      <td>0.000000</td>\n",
       "      <td>-0.000486</td>\n",
       "      <td>0.000000</td>\n",
       "      <td>0.001087</td>\n",
       "      <td>0.000000</td>\n",
       "      <td>0.004424</td>\n",
       "      <td>0.000000</td>\n",
       "      <td>-0.000917</td>\n",
       "      <td>0 days 00:01:33.033000000</td>\n",
       "      <td>a</td>\n",
       "    </tr>\n",
       "    <tr>\n",
       "      <th>2</th>\n",
       "      <td>00:00:48.100000</td>\n",
       "      <td>0.362844</td>\n",
       "      <td>0.745182</td>\n",
       "      <td>1.124362</td>\n",
       "      <td>1.482095</td>\n",
       "      <td>1.843655</td>\n",
       "      <td>2.187054</td>\n",
       "      <td>2.514440</td>\n",
       "      <td>2.784434</td>\n",
       "      <td>3.037603</td>\n",
       "      <td>...</td>\n",
       "      <td>0.005485</td>\n",
       "      <td>0.009896</td>\n",
       "      <td>0.016023</td>\n",
       "      <td>0.021061</td>\n",
       "      <td>0.026021</td>\n",
       "      <td>0.005242</td>\n",
       "      <td>0.010083</td>\n",
       "      <td>0.004973</td>\n",
       "      <td>0 days 00:01:33.200000000</td>\n",
       "      <td>a</td>\n",
       "    </tr>\n",
       "    <tr>\n",
       "      <th>3</th>\n",
       "      <td>00:00:48.133000</td>\n",
       "      <td>0.367497</td>\n",
       "      <td>0.737643</td>\n",
       "      <td>1.138779</td>\n",
       "      <td>1.501100</td>\n",
       "      <td>1.882902</td>\n",
       "      <td>2.229616</td>\n",
       "      <td>2.560493</td>\n",
       "      <td>2.831874</td>\n",
       "      <td>3.100943</td>\n",
       "      <td>...</td>\n",
       "      <td>0.001768</td>\n",
       "      <td>-0.013557</td>\n",
       "      <td>0.006659</td>\n",
       "      <td>0.008361</td>\n",
       "      <td>-0.006958</td>\n",
       "      <td>-0.002550</td>\n",
       "      <td>-0.015592</td>\n",
       "      <td>-0.015350</td>\n",
       "      <td>0 days 00:01:33.233000000</td>\n",
       "      <td>a</td>\n",
       "    </tr>\n",
       "    <tr>\n",
       "      <th>4</th>\n",
       "      <td>00:00:48.166000</td>\n",
       "      <td>0.359406</td>\n",
       "      <td>0.742256</td>\n",
       "      <td>1.140494</td>\n",
       "      <td>1.492409</td>\n",
       "      <td>1.851763</td>\n",
       "      <td>2.183525</td>\n",
       "      <td>2.507926</td>\n",
       "      <td>2.786084</td>\n",
       "      <td>3.036546</td>\n",
       "      <td>...</td>\n",
       "      <td>0.017407</td>\n",
       "      <td>0.013910</td>\n",
       "      <td>-0.008313</td>\n",
       "      <td>-0.009358</td>\n",
       "      <td>-0.011914</td>\n",
       "      <td>0.001913</td>\n",
       "      <td>-0.002426</td>\n",
       "      <td>-0.002292</td>\n",
       "      <td>0 days 00:01:33.266000000</td>\n",
       "      <td>a</td>\n",
       "    </tr>\n",
       "  </tbody>\n",
       "</table>\n",
       "<p>5 rows × 4559 columns</p>\n",
       "</div>"
      ],
      "text/plain": [
       "         timestamp  feature1  feature2  feature3  feature4  feature5  \\\n",
       "0  00:00:47.900000  0.367517  0.737452  1.116747  1.476204  1.821936   \n",
       "1  00:00:47.933000  0.367517  0.737452  1.116747  1.471278  1.830188   \n",
       "2  00:00:48.100000  0.362844  0.745182  1.124362  1.482095  1.843655   \n",
       "3  00:00:48.133000  0.367497  0.737643  1.138779  1.501100  1.882902   \n",
       "4  00:00:48.166000  0.359406  0.742256  1.140494  1.492409  1.851763   \n",
       "\n",
       "   feature6  feature7  feature8  feature9   ...    feature2271.1  \\\n",
       "0  2.144186  2.449769  2.706714  2.962783   ...        -0.003222   \n",
       "1  2.149291  2.472922  2.730096  2.986086   ...         0.000000   \n",
       "2  2.187054  2.514440  2.784434  3.037603   ...         0.005485   \n",
       "3  2.229616  2.560493  2.831874  3.100943   ...         0.001768   \n",
       "4  2.183525  2.507926  2.786084  3.036546   ...         0.017407   \n",
       "\n",
       "   feature2272.1  feature2273.1  feature2274.1  feature2275.1  feature2276.1  \\\n",
       "0      -0.004629      -0.008173      -0.012992      -0.014052      -0.007003   \n",
       "1      -0.000486       0.000000       0.001087       0.000000       0.004424   \n",
       "2       0.009896       0.016023       0.021061       0.026021       0.005242   \n",
       "3      -0.013557       0.006659       0.008361      -0.006958      -0.002550   \n",
       "4       0.013910      -0.008313      -0.009358      -0.011914       0.001913   \n",
       "\n",
       "   feature2277.1  feature2278.1           synced_timestamp  affect  \n",
       "0      -0.004961      -0.001530  0 days 00:01:33.000000000       a  \n",
       "1       0.000000      -0.000917  0 days 00:01:33.033000000       a  \n",
       "2       0.010083       0.004973  0 days 00:01:33.200000000       a  \n",
       "3      -0.015592      -0.015350  0 days 00:01:33.233000000       a  \n",
       "4      -0.002426      -0.002292  0 days 00:01:33.266000000       a  \n",
       "\n",
       "[5 rows x 4559 columns]"
      ]
     },
     "execution_count": 5,
     "metadata": {},
     "output_type": "execute_result"
    }
   ],
   "source": [
    "df.head()"
   ]
  },
  {
   "cell_type": "code",
   "execution_count": 6,
   "metadata": {},
   "outputs": [
    {
     "data": {
      "text/html": [
       "<div>\n",
       "<style scoped>\n",
       "    .dataframe tbody tr th:only-of-type {\n",
       "        vertical-align: middle;\n",
       "    }\n",
       "\n",
       "    .dataframe tbody tr th {\n",
       "        vertical-align: top;\n",
       "    }\n",
       "\n",
       "    .dataframe thead th {\n",
       "        text-align: right;\n",
       "    }\n",
       "</style>\n",
       "<table border=\"1\" class=\"dataframe\">\n",
       "  <thead>\n",
       "    <tr style=\"text-align: right;\">\n",
       "      <th></th>\n",
       "      <th>timestamp</th>\n",
       "      <th>feature1</th>\n",
       "      <th>feature2</th>\n",
       "      <th>feature3</th>\n",
       "      <th>feature4</th>\n",
       "      <th>feature5</th>\n",
       "      <th>feature6</th>\n",
       "      <th>feature7</th>\n",
       "      <th>feature8</th>\n",
       "      <th>feature9</th>\n",
       "      <th>...</th>\n",
       "      <th>feature2271.1</th>\n",
       "      <th>feature2272.1</th>\n",
       "      <th>feature2273.1</th>\n",
       "      <th>feature2274.1</th>\n",
       "      <th>feature2275.1</th>\n",
       "      <th>feature2276.1</th>\n",
       "      <th>feature2277.1</th>\n",
       "      <th>feature2278.1</th>\n",
       "      <th>synced_timestamp</th>\n",
       "      <th>affect</th>\n",
       "    </tr>\n",
       "  </thead>\n",
       "  <tbody>\n",
       "    <tr>\n",
       "      <th>29223</th>\n",
       "      <td>00:08:37.233000</td>\n",
       "      <td>0.354026</td>\n",
       "      <td>0.723533</td>\n",
       "      <td>1.120381</td>\n",
       "      <td>1.507718</td>\n",
       "      <td>1.892204</td>\n",
       "      <td>2.239057</td>\n",
       "      <td>2.613931</td>\n",
       "      <td>2.933800</td>\n",
       "      <td>3.166806</td>\n",
       "      <td>...</td>\n",
       "      <td>-0.014308</td>\n",
       "      <td>0.000000</td>\n",
       "      <td>-0.039003</td>\n",
       "      <td>-0.021769</td>\n",
       "      <td>-0.019523</td>\n",
       "      <td>0.019230</td>\n",
       "      <td>0.019548</td>\n",
       "      <td>0.000000</td>\n",
       "      <td>0 days 00:11:59.433000000</td>\n",
       "      <td>f</td>\n",
       "    </tr>\n",
       "    <tr>\n",
       "      <th>29224</th>\n",
       "      <td>00:08:37.266000</td>\n",
       "      <td>0.352875</td>\n",
       "      <td>0.724503</td>\n",
       "      <td>1.129541</td>\n",
       "      <td>1.500447</td>\n",
       "      <td>1.883178</td>\n",
       "      <td>2.250330</td>\n",
       "      <td>2.626129</td>\n",
       "      <td>2.930681</td>\n",
       "      <td>3.164034</td>\n",
       "      <td>...</td>\n",
       "      <td>0.017769</td>\n",
       "      <td>0.036353</td>\n",
       "      <td>0.020261</td>\n",
       "      <td>0.020457</td>\n",
       "      <td>0.040122</td>\n",
       "      <td>0.000159</td>\n",
       "      <td>0.019862</td>\n",
       "      <td>0.019389</td>\n",
       "      <td>0 days 00:11:59.466000000</td>\n",
       "      <td>f</td>\n",
       "    </tr>\n",
       "    <tr>\n",
       "      <th>29225</th>\n",
       "      <td>00:08:37.299000</td>\n",
       "      <td>0.333333</td>\n",
       "      <td>0.685370</td>\n",
       "      <td>1.087899</td>\n",
       "      <td>1.476508</td>\n",
       "      <td>1.839644</td>\n",
       "      <td>2.180548</td>\n",
       "      <td>2.556114</td>\n",
       "      <td>2.860217</td>\n",
       "      <td>3.109065</td>\n",
       "      <td>...</td>\n",
       "      <td>0.006353</td>\n",
       "      <td>-0.012524</td>\n",
       "      <td>0.019529</td>\n",
       "      <td>0.020381</td>\n",
       "      <td>0.001191</td>\n",
       "      <td>-0.001620</td>\n",
       "      <td>-0.018686</td>\n",
       "      <td>-0.019256</td>\n",
       "      <td>0 days 00:11:59.499000000</td>\n",
       "      <td>f</td>\n",
       "    </tr>\n",
       "    <tr>\n",
       "      <th>29226</th>\n",
       "      <td>00:08:37.333000</td>\n",
       "      <td>0.358854</td>\n",
       "      <td>0.704855</td>\n",
       "      <td>1.092866</td>\n",
       "      <td>1.487895</td>\n",
       "      <td>1.880787</td>\n",
       "      <td>2.248918</td>\n",
       "      <td>2.587115</td>\n",
       "      <td>2.872005</td>\n",
       "      <td>3.110319</td>\n",
       "      <td>...</td>\n",
       "      <td>0.021342</td>\n",
       "      <td>0.028999</td>\n",
       "      <td>-0.004897</td>\n",
       "      <td>0.014444</td>\n",
       "      <td>0.018764</td>\n",
       "      <td>0.023527</td>\n",
       "      <td>0.023863</td>\n",
       "      <td>0.007552</td>\n",
       "      <td>0 days 00:11:59.533000000</td>\n",
       "      <td>f</td>\n",
       "    </tr>\n",
       "    <tr>\n",
       "      <th>29227</th>\n",
       "      <td>00:08:37.366000</td>\n",
       "      <td>0.358854</td>\n",
       "      <td>0.704855</td>\n",
       "      <td>1.092866</td>\n",
       "      <td>1.487895</td>\n",
       "      <td>1.880787</td>\n",
       "      <td>2.248918</td>\n",
       "      <td>2.587115</td>\n",
       "      <td>2.872005</td>\n",
       "      <td>3.110319</td>\n",
       "      <td>...</td>\n",
       "      <td>0.000000</td>\n",
       "      <td>0.000000</td>\n",
       "      <td>0.000000</td>\n",
       "      <td>0.000000</td>\n",
       "      <td>0.000000</td>\n",
       "      <td>0.000000</td>\n",
       "      <td>0.000000</td>\n",
       "      <td>0.000000</td>\n",
       "      <td>0 days 00:11:59.566000000</td>\n",
       "      <td>f</td>\n",
       "    </tr>\n",
       "  </tbody>\n",
       "</table>\n",
       "<p>5 rows × 4559 columns</p>\n",
       "</div>"
      ],
      "text/plain": [
       "             timestamp  feature1  feature2  feature3  feature4  feature5  \\\n",
       "29223  00:08:37.233000  0.354026  0.723533  1.120381  1.507718  1.892204   \n",
       "29224  00:08:37.266000  0.352875  0.724503  1.129541  1.500447  1.883178   \n",
       "29225  00:08:37.299000  0.333333  0.685370  1.087899  1.476508  1.839644   \n",
       "29226  00:08:37.333000  0.358854  0.704855  1.092866  1.487895  1.880787   \n",
       "29227  00:08:37.366000  0.358854  0.704855  1.092866  1.487895  1.880787   \n",
       "\n",
       "       feature6  feature7  feature8  feature9   ...    feature2271.1  \\\n",
       "29223  2.239057  2.613931  2.933800  3.166806   ...        -0.014308   \n",
       "29224  2.250330  2.626129  2.930681  3.164034   ...         0.017769   \n",
       "29225  2.180548  2.556114  2.860217  3.109065   ...         0.006353   \n",
       "29226  2.248918  2.587115  2.872005  3.110319   ...         0.021342   \n",
       "29227  2.248918  2.587115  2.872005  3.110319   ...         0.000000   \n",
       "\n",
       "       feature2272.1  feature2273.1  feature2274.1  feature2275.1  \\\n",
       "29223       0.000000      -0.039003      -0.021769      -0.019523   \n",
       "29224       0.036353       0.020261       0.020457       0.040122   \n",
       "29225      -0.012524       0.019529       0.020381       0.001191   \n",
       "29226       0.028999      -0.004897       0.014444       0.018764   \n",
       "29227       0.000000       0.000000       0.000000       0.000000   \n",
       "\n",
       "       feature2276.1  feature2277.1  feature2278.1           synced_timestamp  \\\n",
       "29223       0.019230       0.019548       0.000000  0 days 00:11:59.433000000   \n",
       "29224       0.000159       0.019862       0.019389  0 days 00:11:59.466000000   \n",
       "29225      -0.001620      -0.018686      -0.019256  0 days 00:11:59.499000000   \n",
       "29226       0.023527       0.023863       0.007552  0 days 00:11:59.533000000   \n",
       "29227       0.000000       0.000000       0.000000  0 days 00:11:59.566000000   \n",
       "\n",
       "       affect  \n",
       "29223       f  \n",
       "29224       f  \n",
       "29225       f  \n",
       "29226       f  \n",
       "29227       f  \n",
       "\n",
       "[5 rows x 4559 columns]"
      ]
     },
     "execution_count": 6,
     "metadata": {},
     "output_type": "execute_result"
    }
   ],
   "source": [
    "df.tail()"
   ]
  },
  {
   "cell_type": "code",
   "execution_count": 7,
   "metadata": {},
   "outputs": [],
   "source": [
    "features = list(df.columns)[1:-2]\n",
    "x = df.loc[:, features].values\n",
    "y = df.loc[:,['affect']].values"
   ]
  },
  {
   "cell_type": "code",
   "execution_count": 8,
   "metadata": {},
   "outputs": [],
   "source": [
    "pca = PCA(n_components=2)\n",
    "principalComponents = pca.fit_transform(x)\n",
    "principalDf = pd.DataFrame(data = principalComponents, columns = ['principal component 1', 'principal component 2'])"
   ]
  },
  {
   "cell_type": "code",
   "execution_count": 9,
   "metadata": {},
   "outputs": [
    {
     "data": {
      "text/html": [
       "<div>\n",
       "<style scoped>\n",
       "    .dataframe tbody tr th:only-of-type {\n",
       "        vertical-align: middle;\n",
       "    }\n",
       "\n",
       "    .dataframe tbody tr th {\n",
       "        vertical-align: top;\n",
       "    }\n",
       "\n",
       "    .dataframe thead th {\n",
       "        text-align: right;\n",
       "    }\n",
       "</style>\n",
       "<table border=\"1\" class=\"dataframe\">\n",
       "  <thead>\n",
       "    <tr style=\"text-align: right;\">\n",
       "      <th></th>\n",
       "      <th>principal component 1</th>\n",
       "      <th>principal component 2</th>\n",
       "    </tr>\n",
       "  </thead>\n",
       "  <tbody>\n",
       "    <tr>\n",
       "      <th>0</th>\n",
       "      <td>-5.422571</td>\n",
       "      <td>-8.196998</td>\n",
       "    </tr>\n",
       "    <tr>\n",
       "      <th>1</th>\n",
       "      <td>-5.440716</td>\n",
       "      <td>-7.727627</td>\n",
       "    </tr>\n",
       "    <tr>\n",
       "      <th>2</th>\n",
       "      <td>-2.290826</td>\n",
       "      <td>-7.269192</td>\n",
       "    </tr>\n",
       "    <tr>\n",
       "      <th>3</th>\n",
       "      <td>-1.280136</td>\n",
       "      <td>-7.109255</td>\n",
       "    </tr>\n",
       "    <tr>\n",
       "      <th>4</th>\n",
       "      <td>-2.883576</td>\n",
       "      <td>-7.635259</td>\n",
       "    </tr>\n",
       "  </tbody>\n",
       "</table>\n",
       "</div>"
      ],
      "text/plain": [
       "   principal component 1  principal component 2\n",
       "0              -5.422571              -8.196998\n",
       "1              -5.440716              -7.727627\n",
       "2              -2.290826              -7.269192\n",
       "3              -1.280136              -7.109255\n",
       "4              -2.883576              -7.635259"
      ]
     },
     "execution_count": 9,
     "metadata": {},
     "output_type": "execute_result"
    }
   ],
   "source": [
    "principalDf.head()"
   ]
  },
  {
   "cell_type": "code",
   "execution_count": 10,
   "metadata": {},
   "outputs": [
    {
     "data": {
      "text/html": [
       "<div>\n",
       "<style scoped>\n",
       "    .dataframe tbody tr th:only-of-type {\n",
       "        vertical-align: middle;\n",
       "    }\n",
       "\n",
       "    .dataframe tbody tr th {\n",
       "        vertical-align: top;\n",
       "    }\n",
       "\n",
       "    .dataframe thead th {\n",
       "        text-align: right;\n",
       "    }\n",
       "</style>\n",
       "<table border=\"1\" class=\"dataframe\">\n",
       "  <thead>\n",
       "    <tr style=\"text-align: right;\">\n",
       "      <th></th>\n",
       "      <th>principal component 1</th>\n",
       "      <th>principal component 2</th>\n",
       "    </tr>\n",
       "  </thead>\n",
       "  <tbody>\n",
       "    <tr>\n",
       "      <th>29223</th>\n",
       "      <td>6.525053</td>\n",
       "      <td>-8.900731</td>\n",
       "    </tr>\n",
       "    <tr>\n",
       "      <th>29224</th>\n",
       "      <td>6.284967</td>\n",
       "      <td>-8.296601</td>\n",
       "    </tr>\n",
       "    <tr>\n",
       "      <th>29225</th>\n",
       "      <td>5.955141</td>\n",
       "      <td>-8.823659</td>\n",
       "    </tr>\n",
       "    <tr>\n",
       "      <th>29226</th>\n",
       "      <td>8.844178</td>\n",
       "      <td>-10.364297</td>\n",
       "    </tr>\n",
       "    <tr>\n",
       "      <th>29227</th>\n",
       "      <td>8.689221</td>\n",
       "      <td>-10.323148</td>\n",
       "    </tr>\n",
       "  </tbody>\n",
       "</table>\n",
       "</div>"
      ],
      "text/plain": [
       "       principal component 1  principal component 2\n",
       "29223               6.525053              -8.900731\n",
       "29224               6.284967              -8.296601\n",
       "29225               5.955141              -8.823659\n",
       "29226               8.844178             -10.364297\n",
       "29227               8.689221             -10.323148"
      ]
     },
     "execution_count": 10,
     "metadata": {},
     "output_type": "execute_result"
    }
   ],
   "source": [
    "principalDf.tail()"
   ]
  },
  {
   "cell_type": "code",
   "execution_count": 11,
   "metadata": {},
   "outputs": [],
   "source": [
    "finalDf = pd.concat([principalDf, df['affect']], axis = 1)"
   ]
  },
  {
   "cell_type": "code",
   "execution_count": 12,
   "metadata": {},
   "outputs": [
    {
     "data": {
      "text/html": [
       "<div>\n",
       "<style scoped>\n",
       "    .dataframe tbody tr th:only-of-type {\n",
       "        vertical-align: middle;\n",
       "    }\n",
       "\n",
       "    .dataframe tbody tr th {\n",
       "        vertical-align: top;\n",
       "    }\n",
       "\n",
       "    .dataframe thead th {\n",
       "        text-align: right;\n",
       "    }\n",
       "</style>\n",
       "<table border=\"1\" class=\"dataframe\">\n",
       "  <thead>\n",
       "    <tr style=\"text-align: right;\">\n",
       "      <th></th>\n",
       "      <th>principal component 1</th>\n",
       "      <th>principal component 2</th>\n",
       "      <th>affect</th>\n",
       "    </tr>\n",
       "  </thead>\n",
       "  <tbody>\n",
       "    <tr>\n",
       "      <th>0</th>\n",
       "      <td>-5.422571</td>\n",
       "      <td>-8.196998</td>\n",
       "      <td>a</td>\n",
       "    </tr>\n",
       "    <tr>\n",
       "      <th>1</th>\n",
       "      <td>-5.440716</td>\n",
       "      <td>-7.727627</td>\n",
       "      <td>a</td>\n",
       "    </tr>\n",
       "    <tr>\n",
       "      <th>2</th>\n",
       "      <td>-2.290826</td>\n",
       "      <td>-7.269192</td>\n",
       "      <td>a</td>\n",
       "    </tr>\n",
       "    <tr>\n",
       "      <th>3</th>\n",
       "      <td>-1.280136</td>\n",
       "      <td>-7.109255</td>\n",
       "      <td>a</td>\n",
       "    </tr>\n",
       "    <tr>\n",
       "      <th>4</th>\n",
       "      <td>-2.883576</td>\n",
       "      <td>-7.635259</td>\n",
       "      <td>a</td>\n",
       "    </tr>\n",
       "  </tbody>\n",
       "</table>\n",
       "</div>"
      ],
      "text/plain": [
       "   principal component 1  principal component 2 affect\n",
       "0              -5.422571              -8.196998      a\n",
       "1              -5.440716              -7.727627      a\n",
       "2              -2.290826              -7.269192      a\n",
       "3              -1.280136              -7.109255      a\n",
       "4              -2.883576              -7.635259      a"
      ]
     },
     "execution_count": 12,
     "metadata": {},
     "output_type": "execute_result"
    }
   ],
   "source": [
    "finalDf.head()"
   ]
  },
  {
   "cell_type": "code",
   "execution_count": 13,
   "metadata": {},
   "outputs": [
    {
     "data": {
      "text/html": [
       "<div>\n",
       "<style scoped>\n",
       "    .dataframe tbody tr th:only-of-type {\n",
       "        vertical-align: middle;\n",
       "    }\n",
       "\n",
       "    .dataframe tbody tr th {\n",
       "        vertical-align: top;\n",
       "    }\n",
       "\n",
       "    .dataframe thead th {\n",
       "        text-align: right;\n",
       "    }\n",
       "</style>\n",
       "<table border=\"1\" class=\"dataframe\">\n",
       "  <thead>\n",
       "    <tr style=\"text-align: right;\">\n",
       "      <th></th>\n",
       "      <th>principal component 1</th>\n",
       "      <th>principal component 2</th>\n",
       "      <th>affect</th>\n",
       "    </tr>\n",
       "  </thead>\n",
       "  <tbody>\n",
       "    <tr>\n",
       "      <th>29223</th>\n",
       "      <td>6.525053</td>\n",
       "      <td>-8.900731</td>\n",
       "      <td>f</td>\n",
       "    </tr>\n",
       "    <tr>\n",
       "      <th>29224</th>\n",
       "      <td>6.284967</td>\n",
       "      <td>-8.296601</td>\n",
       "      <td>f</td>\n",
       "    </tr>\n",
       "    <tr>\n",
       "      <th>29225</th>\n",
       "      <td>5.955141</td>\n",
       "      <td>-8.823659</td>\n",
       "      <td>f</td>\n",
       "    </tr>\n",
       "    <tr>\n",
       "      <th>29226</th>\n",
       "      <td>8.844178</td>\n",
       "      <td>-10.364297</td>\n",
       "      <td>f</td>\n",
       "    </tr>\n",
       "    <tr>\n",
       "      <th>29227</th>\n",
       "      <td>8.689221</td>\n",
       "      <td>-10.323148</td>\n",
       "      <td>f</td>\n",
       "    </tr>\n",
       "  </tbody>\n",
       "</table>\n",
       "</div>"
      ],
      "text/plain": [
       "       principal component 1  principal component 2 affect\n",
       "29223               6.525053              -8.900731      f\n",
       "29224               6.284967              -8.296601      f\n",
       "29225               5.955141              -8.823659      f\n",
       "29226               8.844178             -10.364297      f\n",
       "29227               8.689221             -10.323148      f"
      ]
     },
     "execution_count": 13,
     "metadata": {},
     "output_type": "execute_result"
    }
   ],
   "source": [
    "finalDf.tail()"
   ]
  },
  {
   "cell_type": "code",
   "execution_count": 14,
   "metadata": {},
   "outputs": [
    {
     "data": {
      "text/plain": [
       "array([0.64687853, 0.12410793])"
      ]
     },
     "execution_count": 14,
     "metadata": {},
     "output_type": "execute_result"
    }
   ],
   "source": [
    "pca.explained_variance_ratio_"
   ]
  },
  {
   "cell_type": "code",
   "execution_count": 15,
   "metadata": {},
   "outputs": [
    {
     "data": {
      "text/html": [
       "<div>\n",
       "<style scoped>\n",
       "    .dataframe tbody tr th:only-of-type {\n",
       "        vertical-align: middle;\n",
       "    }\n",
       "\n",
       "    .dataframe tbody tr th {\n",
       "        vertical-align: top;\n",
       "    }\n",
       "\n",
       "    .dataframe thead th {\n",
       "        text-align: right;\n",
       "    }\n",
       "</style>\n",
       "<table border=\"1\" class=\"dataframe\">\n",
       "  <thead>\n",
       "    <tr style=\"text-align: right;\">\n",
       "      <th></th>\n",
       "      <th>Corr</th>\n",
       "      <th>Feature Name</th>\n",
       "      <th>Value</th>\n",
       "    </tr>\n",
       "  </thead>\n",
       "  <tbody>\n",
       "    <tr>\n",
       "      <th>0</th>\n",
       "      <td>High</td>\n",
       "      <td>PC1    feature810\n",
       "PC2    feature288\n",
       "dtype: object</td>\n",
       "      <td>PC1    0.052664\n",
       "PC2    0.051798\n",
       "dtype: float64</td>\n",
       "    </tr>\n",
       "    <tr>\n",
       "      <th>1</th>\n",
       "      <td>Low</td>\n",
       "      <td>PC1     feature29\n",
       "PC2    feature966\n",
       "dtype: object</td>\n",
       "      <td>PC1   -0.023114\n",
       "PC2   -0.049807\n",
       "dtype: float64</td>\n",
       "    </tr>\n",
       "  </tbody>\n",
       "</table>\n",
       "</div>"
      ],
      "text/plain": [
       "   Corr                                       Feature Name  \\\n",
       "0  High  PC1    feature810\n",
       "PC2    feature288\n",
       "dtype: object   \n",
       "1   Low  PC1     feature29\n",
       "PC2    feature966\n",
       "dtype: object   \n",
       "\n",
       "                                            Value  \n",
       "0  PC1    0.052664\n",
       "PC2    0.051798\n",
       "dtype: float64  \n",
       "1  PC1   -0.023114\n",
       "PC2   -0.049807\n",
       "dtype: float64  "
      ]
     },
     "execution_count": 15,
     "metadata": {},
     "output_type": "execute_result"
    }
   ],
   "source": [
    "analysis_DF = pd.DataFrame(pca.components_, columns=features, index = ['PC1','PC2'])\n",
    "\n",
    "most_highly_correlated_feature = analysis_DF.idxmax(axis=1)\n",
    "hc_value = analysis_DF.max(axis=1)\n",
    "most_negatively_correlated_feature = analysis_DF.idxmin(axis=1)\n",
    "nc_value = analysis_DF.min(axis=1)\n",
    "\n",
    "ana_df  = pd.DataFrame(columns = [\"Corr\", \"Feature Name\", \"Value\"])\n",
    "l = [\"High\", most_highly_correlated_feature, hc_value]\n",
    "ana_df.loc[len(ana_df)] = l\n",
    "m = [\"Low\", most_negatively_correlated_feature, nc_value]\n",
    "ana_df.loc[len(ana_df)] = m\n",
    "\n",
    "ana_df"
   ]
  },
  {
   "cell_type": "code",
   "execution_count": 16,
   "metadata": {},
   "outputs": [
    {
     "data": {
      "image/png": "[encoded data removed]",
      "text/plain": [
       "<Figure size 432x288 with 1 Axes>"
      ]
     },
     "metadata": {},
     "output_type": "display_data"
    }
   ],
   "source": [
    "# Setting up the samples \n",
    "df_a = finalDf.query(\"affect=='a'\")\n",
    "df_f = finalDf.query(\"affect=='f'\")\n",
    "df_c = finalDf.query(\"affect=='c'\")\n",
    "\n",
    "label_patches = []\n",
    "\n",
    "# Plotting the KDE Plot Alert\n",
    "sns.kdeplot(df_a['principal component 1'], df_a['principal component 2'], shade=True, cmap=\"Reds\", \n",
    "            shade_lowest=False)\n",
    "\n",
    "label = 'Alert'\n",
    "label_patch = mpatches.Patch(color=sns.color_palette(\"Reds\")[2], label=label)\n",
    "label_patches.append(label_patch)\n",
    "\n",
    "# Plotting the KDE Plot Fussy\n",
    "sns.kdeplot(df_f['principal component 1'], df_f['principal component 2'], shade=True, cmap=\"Blues\", \n",
    "            shade_lowest=False)\n",
    "\n",
    "label = 'Fussy'\n",
    "label_patch = mpatches.Patch(color=sns.color_palette(\"Blues\")[2], label=label)\n",
    "label_patches.append(label_patch)\n",
    "\n",
    "# Plotting the KDE Plot Crying\n",
    "sns.kdeplot(df_c['principal component 1'], df_c['principal component 2'], shade=True, cmap=\"Greens\", \n",
    "            shade_lowest=False)\n",
    "\n",
    "label = 'Crying'\n",
    "label_patch = mpatches.Patch(color=sns.color_palette(\"Greens\")[2], label=label)\n",
    "label_patches.append(label_patch)\n",
    "\n",
    "plt.title('PCA over Behavioral States for All Infants')\n",
    "plt.legend(handles=label_patches, loc='upper right')\n",
    "#plt.show()\n",
    "\n",
    "plt.savefig('PCA_Affect/Combined.png')"
   ]
  },
  {
   "cell_type": "markdown",
   "metadata": {},
   "source": [
    "# STATISTICAL TESTING"
   ]
  },
  {
   "cell_type": "code",
   "execution_count": 17,
   "metadata": {},
   "outputs": [],
   "source": [
    "import scipy"
   ]
  },
  {
   "cell_type": "markdown",
   "metadata": {},
   "source": [
    "## Principal Component 1"
   ]
  },
  {
   "cell_type": "code",
   "execution_count": 18,
   "metadata": {},
   "outputs": [],
   "source": [
    "df_a_pc1 = df_a['principal component 1']\n",
    "df_f_pc1 = df_f['principal component 1']\n",
    "df_c_pc1 = df_c['principal component 1']"
   ]
  },
  {
   "cell_type": "markdown",
   "metadata": {},
   "source": [
    "### Alert & Fussy"
   ]
  },
  {
   "cell_type": "code",
   "execution_count": 19,
   "metadata": {},
   "outputs": [
    {
     "data": {
      "text/plain": [
       "Ttest_indResult(statistic=-37.52550602456018, pvalue=5.419976123124923e-292)"
      ]
     },
     "execution_count": 19,
     "metadata": {},
     "output_type": "execute_result"
    }
   ],
   "source": [
    "scipy.stats.ttest_ind(df_a_pc1, df_f_pc1, equal_var=False)"
   ]
  },
  {
   "cell_type": "code",
   "execution_count": 6,
   "metadata": {},
   "outputs": [
    {
     "data": {
      "text/plain": [
       "True"
      ]
     },
     "execution_count": 6,
     "metadata": {},
     "output_type": "execute_result"
    }
   ],
   "source": [
    "5.419976123124923e-292 < 0.001"
   ]
  },
  {
   "cell_type": "code",
   "execution_count": 21,
   "metadata": {},
   "outputs": [
    {
     "name": "stderr",
     "output_type": "stream",
     "text": [
      "/Users/dhiti/anaconda3/lib/python3.6/site-packages/matplotlib/axes/_axes.py:6462: UserWarning: The 'normed' kwarg is deprecated, and has been replaced by the 'density' kwarg.\n",
      "  warnings.warn(\"The 'normed' kwarg is deprecated, and has been \"\n",
      "/Users/dhiti/anaconda3/lib/python3.6/site-packages/matplotlib/axes/_axes.py:6462: UserWarning: The 'normed' kwarg is deprecated, and has been replaced by the 'density' kwarg.\n",
      "  warnings.warn(\"The 'normed' kwarg is deprecated, and has been \"\n"
     ]
    },
    {
     "data": {
      "text/plain": [
       "<matplotlib.legend.Legend at 0x1a162b31d0>"
      ]
     },
     "execution_count": 21,
     "metadata": {},
     "output_type": "execute_result"
    },
    {
     "data": {
      "image/png": "[encoded data removed]",
      "text/plain": [
       "<Figure size 432x288 with 1 Axes>"
      ]
     },
     "metadata": {},
     "output_type": "display_data"
    }
   ],
   "source": [
    "sns.distplot(df_a_pc1, label='Alert', kde=False)\n",
    "sns.distplot(df_f_pc1, label='Fussy', kde=False)\n",
    "plt.legend()"
   ]
  },
  {
   "cell_type": "code",
   "execution_count": 22,
   "metadata": {},
   "outputs": [
    {
     "data": {
      "text/plain": [
       "<matplotlib.legend.Legend at 0x1a17683fd0>"
      ]
     },
     "execution_count": 22,
     "metadata": {},
     "output_type": "execute_result"
    },
    {
     "data": {
      "image/png": "[encoded data removed]",
      "text/plain": [
       "<Figure size 432x288 with 1 Axes>"
      ]
     },
     "metadata": {},
     "output_type": "display_data"
    }
   ],
   "source": [
    "sns.distplot(df_a_pc1, label='Alert', hist=False)\n",
    "sns.distplot(df_f_pc1, label='Fussy', hist=False)\n",
    "plt.legend()"
   ]
  },
  {
   "cell_type": "markdown",
   "metadata": {},
   "source": [
    "### Alert & Crying"
   ]
  },
  {
   "cell_type": "code",
   "execution_count": 23,
   "metadata": {},
   "outputs": [
    {
     "data": {
      "text/plain": [
       "Ttest_indResult(statistic=-24.47469726003178, pvalue=2.5559191030116655e-108)"
      ]
     },
     "execution_count": 23,
     "metadata": {},
     "output_type": "execute_result"
    }
   ],
   "source": [
    "scipy.stats.ttest_ind(df_a_pc1, df_c_pc1, equal_var=False)"
   ]
  },
  {
   "cell_type": "code",
   "execution_count": 7,
   "metadata": {},
   "outputs": [
    {
     "data": {
      "text/plain": [
       "True"
      ]
     },
     "execution_count": 7,
     "metadata": {},
     "output_type": "execute_result"
    }
   ],
   "source": [
    "2.5559191030116655e-108 < 0.001"
   ]
  },
  {
   "cell_type": "code",
   "execution_count": 24,
   "metadata": {},
   "outputs": [
    {
     "name": "stderr",
     "output_type": "stream",
     "text": [
      "/Users/dhiti/anaconda3/lib/python3.6/site-packages/matplotlib/axes/_axes.py:6462: UserWarning: The 'normed' kwarg is deprecated, and has been replaced by the 'density' kwarg.\n",
      "  warnings.warn(\"The 'normed' kwarg is deprecated, and has been \"\n",
      "/Users/dhiti/anaconda3/lib/python3.6/site-packages/matplotlib/axes/_axes.py:6462: UserWarning: The 'normed' kwarg is deprecated, and has been replaced by the 'density' kwarg.\n",
      "  warnings.warn(\"The 'normed' kwarg is deprecated, and has been \"\n"
     ]
    },
    {
     "data": {
      "text/plain": [
       "<matplotlib.legend.Legend at 0x1a15bd5fd0>"
      ]
     },
     "execution_count": 24,
     "metadata": {},
     "output_type": "execute_result"
    },
    {
     "data": {
      "image/png": "[encoded data removed]",
      "text/plain": [
       "<Figure size 432x288 with 1 Axes>"
      ]
     },
     "metadata": {},
     "output_type": "display_data"
    }
   ],
   "source": [
    "sns.distplot(df_a_pc1, label='Alert', kde=False)\n",
    "sns.distplot(df_c_pc1, label='Crying', kde=False)\n",
    "plt.legend()"
   ]
  },
  {
   "cell_type": "code",
   "execution_count": 26,
   "metadata": {},
   "outputs": [
    {
     "data": {
      "text/plain": [
       "<matplotlib.legend.Legend at 0x1a172f77f0>"
      ]
     },
     "execution_count": 26,
     "metadata": {},
     "output_type": "execute_result"
    },
    {
     "data": {
      "image/png": "[encoded data removed]",
      "text/plain": [
       "<Figure size 432x288 with 1 Axes>"
      ]
     },
     "metadata": {},
     "output_type": "display_data"
    }
   ],
   "source": [
    "sns.distplot(df_a_pc1, label='Alert', hist=False)\n",
    "sns.distplot(df_c_pc1, label='Crying', hist=False)\n",
    "plt.legend()"
   ]
  },
  {
   "cell_type": "markdown",
   "metadata": {},
   "source": [
    "### Fussy & Crying"
   ]
  },
  {
   "cell_type": "code",
   "execution_count": 27,
   "metadata": {},
   "outputs": [
    {
     "data": {
      "text/plain": [
       "Ttest_indResult(statistic=-24.47469726003178, pvalue=2.5559191030116655e-108)"
      ]
     },
     "execution_count": 27,
     "metadata": {},
     "output_type": "execute_result"
    }
   ],
   "source": [
    "scipy.stats.ttest_ind(df_a_pc1, df_c_pc1, equal_var=False)"
   ]
  },
  {
   "cell_type": "code",
   "execution_count": 8,
   "metadata": {},
   "outputs": [
    {
     "data": {
      "text/plain": [
       "True"
      ]
     },
     "execution_count": 8,
     "metadata": {},
     "output_type": "execute_result"
    }
   ],
   "source": [
    "2.5559191030116655e-108 < 0.001"
   ]
  },
  {
   "cell_type": "code",
   "execution_count": 28,
   "metadata": {},
   "outputs": [
    {
     "name": "stderr",
     "output_type": "stream",
     "text": [
      "/Users/dhiti/anaconda3/lib/python3.6/site-packages/matplotlib/axes/_axes.py:6462: UserWarning: The 'normed' kwarg is deprecated, and has been replaced by the 'density' kwarg.\n",
      "  warnings.warn(\"The 'normed' kwarg is deprecated, and has been \"\n",
      "/Users/dhiti/anaconda3/lib/python3.6/site-packages/matplotlib/axes/_axes.py:6462: UserWarning: The 'normed' kwarg is deprecated, and has been replaced by the 'density' kwarg.\n",
      "  warnings.warn(\"The 'normed' kwarg is deprecated, and has been \"\n"
     ]
    },
    {
     "data": {
      "text/plain": [
       "<matplotlib.legend.Legend at 0x10f57e518>"
      ]
     },
     "execution_count": 28,
     "metadata": {},
     "output_type": "execute_result"
    },
    {
     "data": {
      "image/png": "[encoded data removed]",
      "text/plain": [
       "<Figure size 432x288 with 1 Axes>"
      ]
     },
     "metadata": {},
     "output_type": "display_data"
    }
   ],
   "source": [
    "sns.distplot(df_f_pc1, label='Fussy', kde=False)\n",
    "sns.distplot(df_c_pc1, label='Crying', kde=False)\n",
    "plt.legend()"
   ]
  },
  {
   "cell_type": "code",
   "execution_count": 29,
   "metadata": {},
   "outputs": [
    {
     "data": {
      "text/plain": [
       "<matplotlib.legend.Legend at 0x1a16bcedd8>"
      ]
     },
     "execution_count": 29,
     "metadata": {},
     "output_type": "execute_result"
    },
    {
     "data": {
      "image/png": "[encoded data removed]",
      "text/plain": [
       "<Figure size 432x288 with 1 Axes>"
      ]
     },
     "metadata": {},
     "output_type": "display_data"
    }
   ],
   "source": [
    "sns.distplot(df_f_pc1, label='Fussy', hist=False)\n",
    "sns.distplot(df_c_pc1, label='Crying', hist=False)\n",
    "plt.legend()"
   ]
  },
  {
   "cell_type": "markdown",
   "metadata": {},
   "source": [
    "## Principal Component 2"
   ]
  },
  {
   "cell_type": "code",
   "execution_count": 30,
   "metadata": {},
   "outputs": [],
   "source": [
    "df_a_pc2 = df_a['principal component 2']\n",
    "df_f_pc2 = df_f['principal component 2']\n",
    "df_c_pc2 = df_c['principal component 2']"
   ]
  },
  {
   "cell_type": "markdown",
   "metadata": {},
   "source": [
    "### Alert & Fussy"
   ]
  },
  {
   "cell_type": "code",
   "execution_count": 32,
   "metadata": {},
   "outputs": [
    {
     "data": {
      "text/plain": [
       "Ttest_indResult(statistic=-52.47344995815503, pvalue=0.0)"
      ]
     },
     "execution_count": 32,
     "metadata": {},
     "output_type": "execute_result"
    }
   ],
   "source": [
    "scipy.stats.ttest_ind(df_a_pc2, df_f_pc2, equal_var=False)"
   ]
  },
  {
   "cell_type": "code",
   "execution_count": 31,
   "metadata": {},
   "outputs": [
    {
     "name": "stderr",
     "output_type": "stream",
     "text": [
      "/Users/dhiti/anaconda3/lib/python3.6/site-packages/matplotlib/axes/_axes.py:6462: UserWarning: The 'normed' kwarg is deprecated, and has been replaced by the 'density' kwarg.\n",
      "  warnings.warn(\"The 'normed' kwarg is deprecated, and has been \"\n",
      "/Users/dhiti/anaconda3/lib/python3.6/site-packages/matplotlib/axes/_axes.py:6462: UserWarning: The 'normed' kwarg is deprecated, and has been replaced by the 'density' kwarg.\n",
      "  warnings.warn(\"The 'normed' kwarg is deprecated, and has been \"\n"
     ]
    },
    {
     "data": {
      "text/plain": [
       "<matplotlib.legend.Legend at 0x1a1952ef98>"
      ]
     },
     "execution_count": 31,
     "metadata": {},
     "output_type": "execute_result"
    },
    {
     "data": {
      "image/png": "[encoded data removed]",
      "text/plain": [
       "<Figure size 432x288 with 1 Axes>"
      ]
     },
     "metadata": {},
     "output_type": "display_data"
    }
   ],
   "source": [
    "sns.distplot(df_a_pc2, label='Alert', kde=False)\n",
    "sns.distplot(df_f_pc2, label='Fussy', kde=False)\n",
    "plt.legend()"
   ]
  },
  {
   "cell_type": "code",
   "execution_count": 33,
   "metadata": {},
   "outputs": [
    {
     "data": {
      "text/plain": [
       "<matplotlib.axes._subplots.AxesSubplot at 0x1a15cae860>"
      ]
     },
     "execution_count": 33,
     "metadata": {},
     "output_type": "execute_result"
    },
    {
     "data": {
      "image/png": "[encoded data removed]",
      "text/plain": [
       "<Figure size 432x288 with 1 Axes>"
      ]
     },
     "metadata": {},
     "output_type": "display_data"
    }
   ],
   "source": [
    "sns.distplot(df_a_pc2, label='Alert', hist=False)\n",
    "sns.distplot(df_f_pc2, label='Fussy', hist=False)"
   ]
  },
  {
   "cell_type": "markdown",
   "metadata": {},
   "source": [
    "### Alert & Crying"
   ]
  },
  {
   "cell_type": "code",
   "execution_count": 34,
   "metadata": {},
   "outputs": [
    {
     "data": {
      "text/plain": [
       "Ttest_indResult(statistic=-38.02868034305248, pvalue=1.0611303266938025e-212)"
      ]
     },
     "execution_count": 34,
     "metadata": {},
     "output_type": "execute_result"
    }
   ],
   "source": [
    "scipy.stats.ttest_ind(df_a_pc2, df_c_pc2, equal_var=False)"
   ]
  },
  {
   "cell_type": "code",
   "execution_count": 9,
   "metadata": {},
   "outputs": [
    {
     "data": {
      "text/plain": [
       "True"
      ]
     },
     "execution_count": 9,
     "metadata": {},
     "output_type": "execute_result"
    }
   ],
   "source": [
    "1.0611303266938025e-212 < 0.001"
   ]
  },
  {
   "cell_type": "code",
   "execution_count": 35,
   "metadata": {},
   "outputs": [
    {
     "name": "stderr",
     "output_type": "stream",
     "text": [
      "/Users/dhiti/anaconda3/lib/python3.6/site-packages/matplotlib/axes/_axes.py:6462: UserWarning: The 'normed' kwarg is deprecated, and has been replaced by the 'density' kwarg.\n",
      "  warnings.warn(\"The 'normed' kwarg is deprecated, and has been \"\n",
      "/Users/dhiti/anaconda3/lib/python3.6/site-packages/matplotlib/axes/_axes.py:6462: UserWarning: The 'normed' kwarg is deprecated, and has been replaced by the 'density' kwarg.\n",
      "  warnings.warn(\"The 'normed' kwarg is deprecated, and has been \"\n"
     ]
    },
    {
     "data": {
      "text/plain": [
       "<matplotlib.legend.Legend at 0x1a16d5f860>"
      ]
     },
     "execution_count": 35,
     "metadata": {},
     "output_type": "execute_result"
    },
    {
     "data": {
      "image/png": "[encoded data removed]",
      "text/plain": [
       "<Figure size 432x288 with 1 Axes>"
      ]
     },
     "metadata": {},
     "output_type": "display_data"
    }
   ],
   "source": [
    "sns.distplot(df_a_pc2, label='Alert', kde=False)\n",
    "sns.distplot(df_c_pc2, label='Crying', kde=False)\n",
    "plt.legend()"
   ]
  },
  {
   "cell_type": "code",
   "execution_count": 37,
   "metadata": {},
   "outputs": [
    {
     "data": {
      "text/plain": [
       "<matplotlib.axes._subplots.AxesSubplot at 0x1a15f528d0>"
      ]
     },
     "execution_count": 37,
     "metadata": {},
     "output_type": "execute_result"
    },
    {
     "data": {
      "image/png": "[encoded data removed]",
      "text/plain": [
       "<Figure size 432x288 with 1 Axes>"
      ]
     },
     "metadata": {},
     "output_type": "display_data"
    }
   ],
   "source": [
    "sns.distplot(df_a_pc2, label='Alert', hist=False)\n",
    "sns.distplot(df_c_pc2, label='Crying', hist=False)"
   ]
  },
  {
   "cell_type": "markdown",
   "metadata": {},
   "source": [
    "### Fussy & Crying"
   ]
  },
  {
   "cell_type": "code",
   "execution_count": 38,
   "metadata": {},
   "outputs": [
    {
     "data": {
      "text/plain": [
       "Ttest_indResult(statistic=-9.728765045550455, pvalue=8.06175746834935e-22)"
      ]
     },
     "execution_count": 38,
     "metadata": {},
     "output_type": "execute_result"
    }
   ],
   "source": [
    "scipy.stats.ttest_ind(df_f_pc2, df_c_pc2, equal_var=False)"
   ]
  },
  {
   "cell_type": "code",
   "execution_count": 10,
   "metadata": {},
   "outputs": [
    {
     "data": {
      "text/plain": [
       "True"
      ]
     },
     "execution_count": 10,
     "metadata": {},
     "output_type": "execute_result"
    }
   ],
   "source": [
    "8.06175746834935e-22 < 0.001"
   ]
  },
  {
   "cell_type": "code",
   "execution_count": 39,
   "metadata": {},
   "outputs": [
    {
     "name": "stderr",
     "output_type": "stream",
     "text": [
      "/Users/dhiti/anaconda3/lib/python3.6/site-packages/matplotlib/axes/_axes.py:6462: UserWarning: The 'normed' kwarg is deprecated, and has been replaced by the 'density' kwarg.\n",
      "  warnings.warn(\"The 'normed' kwarg is deprecated, and has been \"\n",
      "/Users/dhiti/anaconda3/lib/python3.6/site-packages/matplotlib/axes/_axes.py:6462: UserWarning: The 'normed' kwarg is deprecated, and has been replaced by the 'density' kwarg.\n",
      "  warnings.warn(\"The 'normed' kwarg is deprecated, and has been \"\n"
     ]
    },
    {
     "data": {
      "text/plain": [
       "<matplotlib.legend.Legend at 0x1a17ad7da0>"
      ]
     },
     "execution_count": 39,
     "metadata": {},
     "output_type": "execute_result"
    },
    {
     "data": {
      "image/png": "[encoded data removed]",
      "text/plain": [
       "<Figure size 432x288 with 1 Axes>"
      ]
     },
     "metadata": {},
     "output_type": "display_data"
    }
   ],
   "source": [
    "sns.distplot(df_f_pc2, label='Fussy', kde=False)\n",
    "sns.distplot(df_c_pc2, label='Crying', kde=False)\n",
    "plt.legend()"
   ]
  },
  {
   "cell_type": "code",
   "execution_count": 40,
   "metadata": {},
   "outputs": [
    {
     "data": {
      "text/plain": [
       "<matplotlib.axes._subplots.AxesSubplot at 0x1a181e0978>"
      ]
     },
     "execution_count": 40,
     "metadata": {},
     "output_type": "execute_result"
    },
    {
     "data": {
      "image/png": "[encoded data removed]",
      "text/plain": [
       "<Figure size 432x288 with 1 Axes>"
      ]
     },
     "metadata": {},
     "output_type": "display_data"
    }
   ],
   "source": [
    "sns.distplot(df_f_pc2, label='Fussy', hist=False)\n",
    "sns.distplot(df_c_pc2, label='Crying', hist=False)"
   ]
  },
  {
   "cell_type": "markdown",
   "metadata": {},
   "source": [
    "1. 1 page write up Analysis\n",
    "1.1 satistically sig diff betw facial features (p value)\n",
    "1.2 fussy variance pc2 \n",
    "1.3 To add\n",
    "software\n",
    "how did you extarct facial features, what features\n",
    "which infants\n",
    "pca, visualizations\n",
    "conclusion!!\n",
    "2. Legends"
   ]
  }
 ],
 "metadata": {
  "kernelspec": {
   "display_name": "Python 3",
   "language": "python",
   "name": "python3"
  },
  "language_info": {
   "codemirror_mode": {
    "name": "ipython",
    "version": 3
   },
   "file_extension": ".py",
   "mimetype": "text/x-python",
   "name": "python",
   "nbconvert_exporter": "python",
   "pygments_lexer": "ipython3",
   "version": "3.6.5"
  }
 },
 "nbformat": 4,
 "nbformat_minor": 2
}
